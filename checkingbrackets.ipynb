from stack import Stack
def checking(top, value):
    if top == '[' and value == ']':
        return True
    elif top == '{' and value == '}':
        return True
    elif top == '(' and value == ')':
        return True
    else:
        return False
    


    

def checkingbracets(string):
    s = Stack()
    index = 0
    is_balanced = True
    while index < len(string) and is_balanced == True:
        value = string[index]
        if value in "({[":
            s.push(value)
        else:
            if s.is_empty() == True:
                is_balanced = False
                break
            else:
                top = s.pop()
               
                if checking(top, value) == False:
                    is_balanced = False
                    break
        index += 1
  
   
    
    if s.is_empty() == True and is_balanced == True:
        return True
    return False
print(checkingbracets("[]{}"))
print(checkingbracets("[][]"))
print(checkingbracets("((()))]"))










